{
  "nbformat": 4,
  "nbformat_minor": 0,
  "metadata": {
    "colab": {
      "name": "python 300 연습(1~.ipynb",
      "provenance": [],
      "collapsed_sections": [],
      "authorship_tag": "ABX9TyMSeWES6hiN/UZqAPF72MMk",
      "include_colab_link": true
    },
    "kernelspec": {
      "name": "python3",
      "display_name": "Python 3"
    },
    "language_info": {
      "name": "python"
    }
  },
  "cells": [
    {
      "cell_type": "markdown",
      "metadata": {
        "id": "view-in-github",
        "colab_type": "text"
      },
      "source": [
        "<a href=\"https://colab.research.google.com/github/Jungjaekyun/Jungjaekyun/blob/main/python_300_%EC%97%B0%EC%8A%B5(1~.ipynb\" target=\"_parent\"><img src=\"https://colab.research.google.com/assets/colab-badge.svg\" alt=\"Open In Colab\"/></a>"
      ]
    },
    {
      "cell_type": "code",
      "execution_count": null,
      "metadata": {
        "colab": {
          "base_uri": "https://localhost:8080/"
        },
        "id": "gUvAlNVoPpnb",
        "outputId": "669ec5e5-dc7f-4dd5-9eb8-f5c43aad0f5b"
      },
      "outputs": [
        {
          "output_type": "stream",
          "name": "stdout",
          "text": [
            "Hello World\n"
          ]
        }
      ],
      "source": [
        "print(\"Hello World\")"
      ]
    },
    {
      "cell_type": "code",
      "source": [
        "print(\"Mary's cosmetics\")"
      ],
      "metadata": {
        "colab": {
          "base_uri": "https://localhost:8080/"
        },
        "id": "3U7EuortP0oP",
        "outputId": "faee7670-af23-4353-dcf7-1b8cd4a4c91f"
      },
      "execution_count": null,
      "outputs": [
        {
          "output_type": "stream",
          "name": "stdout",
          "text": [
            "Mary's cosmetics\n"
          ]
        }
      ]
    },
    {
      "cell_type": "code",
      "source": [
        "print('신씨가 소리질렀다. \"도둑이야.\"')"
      ],
      "metadata": {
        "colab": {
          "base_uri": "https://localhost:8080/"
        },
        "id": "Nh_BPLQXQFAL",
        "outputId": "e1bd93b2-75c3-4b2b-a14e-34940a0f780e"
      },
      "execution_count": null,
      "outputs": [
        {
          "output_type": "stream",
          "name": "stdout",
          "text": [
            "신씨가 소리질렀다. \"도둑이야.\"\n"
          ]
        }
      ]
    },
    {
      "cell_type": "code",
      "source": [
        "print('\"C:\\Windows\"')"
      ],
      "metadata": {
        "colab": {
          "base_uri": "https://localhost:8080/"
        },
        "id": "Fvq3yZIBbjAg",
        "outputId": "b93ff9d5-1d15-494b-996a-1a806f15a113"
      },
      "execution_count": null,
      "outputs": [
        {
          "output_type": "stream",
          "name": "stdout",
          "text": [
            "\"C:\\Windows\"\n"
          ]
        }
      ]
    },
    {
      "cell_type": "code",
      "source": [
        "print(\"안녕하세요.\\n만나서\\t\\t반갑습니다.\")"
      ],
      "metadata": {
        "colab": {
          "base_uri": "https://localhost:8080/"
        },
        "id": "PhXAKEJge_CI",
        "outputId": "e04610a6-ca16-4cd3-e2a5-413aab6ebdc0"
      },
      "execution_count": null,
      "outputs": [
        {
          "output_type": "stream",
          "name": "stdout",
          "text": [
            "안녕하세요.\n",
            "만나서\t\t반갑습니다.\n"
          ]
        }
      ]
    },
    {
      "cell_type": "code",
      "source": [
        "print (\"오늘은\", \"일요일\")"
      ],
      "metadata": {
        "colab": {
          "base_uri": "https://localhost:8080/"
        },
        "id": "7xawJaH9fQNS",
        "outputId": "d7d5b638-a026-4519-af20-20bfbfb3e93c"
      },
      "execution_count": null,
      "outputs": [
        {
          "output_type": "stream",
          "name": "stdout",
          "text": [
            "오늘은 일요일\n"
          ]
        }
      ]
    },
    {
      "cell_type": "code",
      "source": [
        "print('naver;kakao;sk;samsung')\n",
        "print(\"naver\", \"kakao\", \"samsumg\", sep=\";\")   "
      ],
      "metadata": {
        "colab": {
          "base_uri": "https://localhost:8080/"
        },
        "id": "NQsPtp67fQSB",
        "outputId": "de63f7f0-80c2-48b3-c4de-1b4100e0aa2e"
      },
      "execution_count": null,
      "outputs": [
        {
          "output_type": "stream",
          "name": "stdout",
          "text": [
            "naver;kakao;sk;samsung\n",
            "naver;kakao;samsumg\n"
          ]
        }
      ]
    },
    {
      "cell_type": "code",
      "source": [
        "print(\"naver\", \"kakao\", \"sk\", \"samsumg\", sep=\"/\")"
      ],
      "metadata": {
        "colab": {
          "base_uri": "https://localhost:8080/"
        },
        "id": "bHjrIEYkfQVE",
        "outputId": "44324fb1-09c2-4341-da92-98ff708d33ef"
      },
      "execution_count": null,
      "outputs": [
        {
          "output_type": "stream",
          "name": "stdout",
          "text": [
            "naver/kakao/sk/samsumg\n"
          ]
        }
      ]
    },
    {
      "cell_type": "code",
      "source": [
        "print(\"first\", end=\"\")\n",
        "print(\"second\")"
      ],
      "metadata": {
        "id": "TkXT5xbffQXv",
        "colab": {
          "base_uri": "https://localhost:8080/"
        },
        "outputId": "90a0aee4-93c2-4631-c611-c8cf6d74023d"
      },
      "execution_count": 31,
      "outputs": [
        {
          "output_type": "stream",
          "name": "stdout",
          "text": [
            "first\n",
            "second\n"
          ]
        }
      ]
    },
    {
      "cell_type": "code",
      "source": [
        "print(5/3)"
      ],
      "metadata": {
        "id": "XfXNsgzdfQaN",
        "colab": {
          "base_uri": "https://localhost:8080/"
        },
        "outputId": "ca92dfd0-b714-4be7-9a13-113791936243"
      },
      "execution_count": 28,
      "outputs": [
        {
          "output_type": "stream",
          "name": "stdout",
          "text": [
            "1.6666666666666667\n"
          ]
        }
      ]
    },
    {
      "cell_type": "code",
      "source": [
        "삼성전자 = 50000\n",
        "#print(삼성전자 * 10)\n",
        "총평가액 = 삼성전자 * 10\n",
        "print(총평가액)"
      ],
      "metadata": {
        "id": "kb9WRX_mfQcu",
        "colab": {
          "base_uri": "https://localhost:8080/"
        },
        "outputId": "2f446a9f-3617-4a0c-bf2b-f106ba58faca"
      },
      "execution_count": 39,
      "outputs": [
        {
          "output_type": "stream",
          "name": "stdout",
          "text": [
            "500000\n"
          ]
        }
      ]
    },
    {
      "cell_type": "code",
      "source": [
        "시가총액 = 2980000000000\n",
        "현재가 = 50000\n",
        "PER = 15.79\n",
        "print(시가총액, type(시가총액))\n",
        "print(현재가, type(현재가))\n",
        "print(PER, type(PER))"
      ],
      "metadata": {
        "id": "IZ8R2V4efQfE",
        "colab": {
          "base_uri": "https://localhost:8080/"
        },
        "outputId": "aa19a21f-2696-47f4-c849-04a29700bf5c"
      },
      "execution_count": 45,
      "outputs": [
        {
          "output_type": "stream",
          "name": "stdout",
          "text": [
            "2980000000000 <class 'int'>\n",
            "50000 <class 'int'>\n",
            "15.79 <class 'float'>\n"
          ]
        }
      ]
    },
    {
      "cell_type": "code",
      "source": [
        "s = \"hello\"\n",
        "t = \"python\"\n",
        "\n",
        "print(s+\"!\",t)\n"
      ],
      "metadata": {
        "id": "d9Z8c0rafQhY",
        "colab": {
          "base_uri": "https://localhost:8080/"
        },
        "outputId": "18cbbb7d-ecf6-4665-809f-92427bb321db"
      },
      "execution_count": 61,
      "outputs": [
        {
          "output_type": "stream",
          "name": "stdout",
          "text": [
            "hello! python\n"
          ]
        }
      ]
    },
    {
      "cell_type": "code",
      "source": [
        "2+2*3"
      ],
      "metadata": {
        "id": "DEQKn1FefQjh",
        "colab": {
          "base_uri": "https://localhost:8080/"
        },
        "outputId": "69994a39-5afe-47c9-f179-3c883fed8a9c"
      },
      "execution_count": 62,
      "outputs": [
        {
          "output_type": "execute_result",
          "data": {
            "text/plain": [
              "8"
            ]
          },
          "metadata": {},
          "execution_count": 62
        }
      ]
    },
    {
      "cell_type": "code",
      "source": [
        "# a = 128\n",
        "# print (type(a))\n",
        "# <class 'int'>\n",
        "a = \"132\"\n",
        "print(type(a))\n"
      ],
      "metadata": {
        "colab": {
          "base_uri": "https://localhost:8080/"
        },
        "id": "pR8IN8o8tphp",
        "outputId": "a72f17ba-9614-4dc1-abe8-1b7014a87501"
      },
      "execution_count": 64,
      "outputs": [
        {
          "output_type": "stream",
          "name": "stdout",
          "text": [
            "<class 'str'>\n"
          ]
        }
      ]
    },
    {
      "cell_type": "code",
      "source": [
        "num = '100'\n",
        "result = str(num)\n",
        "\n",
        "print(result, type(result))"
      ],
      "metadata": {
        "colab": {
          "base_uri": "https://localhost:8080/"
        },
        "id": "2ih1xehDts-J",
        "outputId": "e45b5df6-d43f-4cee-bd6f-33fa339de65a"
      },
      "execution_count": 72,
      "outputs": [
        {
          "output_type": "stream",
          "name": "stdout",
          "text": [
            "100 <class 'str'>\n"
          ]
        }
      ]
    },
    {
      "cell_type": "code",
      "source": [
        "data = \"15.79\"\n",
        "# data = float(data)\n",
        "\n",
        "# print(data, type(data))\n",
        "print(float(data))"
      ],
      "metadata": {
        "colab": {
          "base_uri": "https://localhost:8080/"
        },
        "id": "oXpZ3Vz7uCM4",
        "outputId": "e4eed744-6e4d-467e-c6de-f4be4f1da9b5"
      },
      "execution_count": 91,
      "outputs": [
        {
          "output_type": "stream",
          "name": "stdout",
          "text": [
            "15.79\n"
          ]
        }
      ]
    },
    {
      "cell_type": "code",
      "source": [
        "# py = \"2020\"\n",
        "# ty = \"2021\"\n",
        "# ny = \"2022\"\n",
        "# data1 = int(py)\n",
        "# data2 = int(ty)\n",
        "# data3 = int(ny)\n",
        "\n",
        "# print(data1, data2, data3, type(data))\n",
        "\n",
        "year = \"2020\"\n",
        "print(int(year)-3);print(int(year)-2);print(int(year)-1)"
      ],
      "metadata": {
        "colab": {
          "base_uri": "https://localhost:8080/"
        },
        "id": "fLXT3ii8uhpY",
        "outputId": "575aedfd-1c06-4413-a405-067ec52aedd2"
      },
      "execution_count": 90,
      "outputs": [
        {
          "output_type": "stream",
          "name": "stdout",
          "text": [
            "2017\n",
            "2018\n",
            "2019\n"
          ]
        }
      ]
    },
    {
      "cell_type": "code",
      "source": [
        "월 = 48584\n",
        "개월 = 36\n",
        "\n",
        "총금액 = 월 * 개월\n",
        "print(총금액)"
      ],
      "metadata": {
        "colab": {
          "base_uri": "https://localhost:8080/"
        },
        "id": "McFJWhd3u3KZ",
        "outputId": "c8432849-f80c-40d1-ae78-2a25b13ab7dc"
      },
      "execution_count": 92,
      "outputs": [
        {
          "output_type": "stream",
          "name": "stdout",
          "text": [
            "1749024\n"
          ]
        }
      ]
    },
    {
      "cell_type": "code",
      "source": [
        "letters = 'python'\n",
        "print(letters[0], letters[2])"
      ],
      "metadata": {
        "colab": {
          "base_uri": "https://localhost:8080/"
        },
        "id": "pDfk7H3YwONA",
        "outputId": "8db9a2b0-bb58-4232-ea76-800b7229f6ad"
      },
      "execution_count": 97,
      "outputs": [
        {
          "output_type": "stream",
          "name": "stdout",
          "text": [
            "p t\n"
          ]
        }
      ]
    },
    {
      "cell_type": "code",
      "source": [
        "license_plate = \"24가 2210\""
      ],
      "metadata": {
        "id": "CxSNAy26xCYZ"
      },
      "execution_count": 98,
      "outputs": []
    }
  ]
}